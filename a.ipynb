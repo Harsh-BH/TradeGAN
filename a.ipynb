{
 "cells": [
  {
   "cell_type": "code",
   "execution_count": 3,
   "metadata": {},
   "outputs": [],
   "source": [
    "import pandas as pd"
   ]
  },
  {
   "cell_type": "code",
   "execution_count": 4,
   "metadata": {},
   "outputs": [],
   "source": [
    "df = pd.read_csv(\"/home/harsh/Hackathons/TradeGAN/data/ZENSARTECH_NS.csv\")"
   ]
  },
  {
   "cell_type": "code",
   "execution_count": 5,
   "metadata": {},
   "outputs": [
    {
     "data": {
      "text/html": [
       "<div>\n",
       "<style scoped>\n",
       "    .dataframe tbody tr th:only-of-type {\n",
       "        vertical-align: middle;\n",
       "    }\n",
       "\n",
       "    .dataframe tbody tr th {\n",
       "        vertical-align: top;\n",
       "    }\n",
       "\n",
       "    .dataframe thead th {\n",
       "        text-align: right;\n",
       "    }\n",
       "</style>\n",
       "<table border=\"1\" class=\"dataframe\">\n",
       "  <thead>\n",
       "    <tr style=\"text-align: right;\">\n",
       "      <th></th>\n",
       "      <th>date</th>\n",
       "      <th>AdjOpen</th>\n",
       "      <th>AdjClose</th>\n",
       "    </tr>\n",
       "  </thead>\n",
       "  <tbody>\n",
       "    <tr>\n",
       "      <th>0</th>\n",
       "      <td>NaN</td>\n",
       "      <td>ZENSARTECH.NS</td>\n",
       "      <td>ZENSARTECH.NS</td>\n",
       "    </tr>\n",
       "    <tr>\n",
       "      <th>1</th>\n",
       "      <td>2010-01-04</td>\n",
       "      <td>23.92566183543876</td>\n",
       "      <td>24.82704734802246</td>\n",
       "    </tr>\n",
       "    <tr>\n",
       "      <th>2</th>\n",
       "      <td>2010-01-05</td>\n",
       "      <td>24.927198767632476</td>\n",
       "      <td>24.367080688476562</td>\n",
       "    </tr>\n",
       "    <tr>\n",
       "      <th>3</th>\n",
       "      <td>2010-01-06</td>\n",
       "      <td>24.704632596924093</td>\n",
       "      <td>24.474651336669922</td>\n",
       "    </tr>\n",
       "    <tr>\n",
       "      <th>4</th>\n",
       "      <td>2010-01-07</td>\n",
       "      <td>24.85300582677547</td>\n",
       "      <td>24.522869110107422</td>\n",
       "    </tr>\n",
       "    <tr>\n",
       "      <th>...</th>\n",
       "      <td>...</td>\n",
       "      <td>...</td>\n",
       "      <td>...</td>\n",
       "    </tr>\n",
       "    <tr>\n",
       "      <th>2956</th>\n",
       "      <td>2021-12-24</td>\n",
       "      <td>465.2412125063027</td>\n",
       "      <td>457.20001220703125</td>\n",
       "    </tr>\n",
       "    <tr>\n",
       "      <th>2957</th>\n",
       "      <td>2021-12-27</td>\n",
       "      <td>454.7110837102805</td>\n",
       "      <td>450.0203857421875</td>\n",
       "    </tr>\n",
       "    <tr>\n",
       "      <th>2958</th>\n",
       "      <td>2021-12-28</td>\n",
       "      <td>451.83918393293305</td>\n",
       "      <td>477.39874267578125</td>\n",
       "    </tr>\n",
       "    <tr>\n",
       "      <th>2959</th>\n",
       "      <td>2021-12-29</td>\n",
       "      <td>482.4723665236928</td>\n",
       "      <td>502.19244384765625</td>\n",
       "    </tr>\n",
       "    <tr>\n",
       "      <th>2960</th>\n",
       "      <td>2021-12-30</td>\n",
       "      <td>502.57535670617733</td>\n",
       "      <td>496.5444641113281</td>\n",
       "    </tr>\n",
       "  </tbody>\n",
       "</table>\n",
       "<p>2961 rows × 3 columns</p>\n",
       "</div>"
      ],
      "text/plain": [
       "            date             AdjOpen            AdjClose\n",
       "0            NaN       ZENSARTECH.NS       ZENSARTECH.NS\n",
       "1     2010-01-04   23.92566183543876   24.82704734802246\n",
       "2     2010-01-05  24.927198767632476  24.367080688476562\n",
       "3     2010-01-06  24.704632596924093  24.474651336669922\n",
       "4     2010-01-07   24.85300582677547  24.522869110107422\n",
       "...          ...                 ...                 ...\n",
       "2956  2021-12-24   465.2412125063027  457.20001220703125\n",
       "2957  2021-12-27   454.7110837102805   450.0203857421875\n",
       "2958  2021-12-28  451.83918393293305  477.39874267578125\n",
       "2959  2021-12-29   482.4723665236928  502.19244384765625\n",
       "2960  2021-12-30  502.57535670617733   496.5444641113281\n",
       "\n",
       "[2961 rows x 3 columns]"
      ]
     },
     "execution_count": 5,
     "metadata": {},
     "output_type": "execute_result"
    }
   ],
   "source": [
    "df"
   ]
  },
  {
   "cell_type": "code",
   "execution_count": 6,
   "metadata": {},
   "outputs": [
    {
     "name": "stdout",
     "output_type": "stream",
     "text": [
      "3.10.0\n"
     ]
    }
   ],
   "source": [
    "import matplotlib\n",
    "print(matplotlib.__version__)\n"
   ]
  },
  {
   "cell_type": "code",
   "execution_count": null,
   "metadata": {},
   "outputs": [],
   "source": []
  }
 ],
 "metadata": {
  "kernelspec": {
   "display_name": "venv",
   "language": "python",
   "name": "python3"
  },
  "language_info": {
   "codemirror_mode": {
    "name": "ipython",
    "version": 3
   },
   "file_extension": ".py",
   "mimetype": "text/x-python",
   "name": "python",
   "nbconvert_exporter": "python",
   "pygments_lexer": "ipython3",
   "version": "3.12.7"
  }
 },
 "nbformat": 4,
 "nbformat_minor": 2
}
